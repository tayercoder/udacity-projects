{
 "cells": [
  {
   "cell_type": "markdown",
   "metadata": {},
   "source": [
    "# Text Processing\n",
    "\n",
    "## Capturing Text Data\n",
    "\n",
    "### Plain Text"
   ]
  },
  {
   "cell_type": "code",
   "execution_count": 1,
   "metadata": {},
   "outputs": [
    {
     "name": "stdout",
     "output_type": "stream",
     "text": [
      "Hieroglyphic writing dates from c. 3000 BC, and is composed of hundreds of symbols. A hieroglyph can represent a word, a sound, or a silent determinative; and the same symbol can serve different purposes in different contexts. Hieroglyphs were a formal script, used on stone monuments and in tombs, that could be as detailed as individual works of art.\n",
      "\n"
     ]
    }
   ],
   "source": [
    "import os\n",
    "\n",
    "# Read in a plain text file\n",
    "with open(os.path.join(\"data\", \"hieroglyph.txt\"), \"r\") as f:\n",
    "    text = f.read()\n",
    "    print(text)"
   ]
  },
  {
   "cell_type": "markdown",
   "metadata": {},
   "source": [
    "### Tabular Data"
   ]
  },
  {
   "cell_type": "code",
   "execution_count": 2,
   "metadata": {
    "scrolled": true
   },
   "outputs": [
    {
     "data": {
      "text/html": [
       "<div>\n",
       "<style scoped>\n",
       "    .dataframe tbody tr th:only-of-type {\n",
       "        vertical-align: middle;\n",
       "    }\n",
       "\n",
       "    .dataframe tbody tr th {\n",
       "        vertical-align: top;\n",
       "    }\n",
       "\n",
       "    .dataframe thead th {\n",
       "        text-align: right;\n",
       "    }\n",
       "</style>\n",
       "<table border=\"1\" class=\"dataframe\">\n",
       "  <thead>\n",
       "    <tr style=\"text-align: right;\">\n",
       "      <th></th>\n",
       "      <th>publisher</th>\n",
       "      <th>title</th>\n",
       "    </tr>\n",
       "  </thead>\n",
       "  <tbody>\n",
       "    <tr>\n",
       "      <th>0</th>\n",
       "      <td>Livemint</td>\n",
       "      <td>fed's charles plosser sees high bar for change...</td>\n",
       "    </tr>\n",
       "    <tr>\n",
       "      <th>1</th>\n",
       "      <td>IFA Magazine</td>\n",
       "      <td>us open: stocks fall after fed official hints ...</td>\n",
       "    </tr>\n",
       "    <tr>\n",
       "      <th>2</th>\n",
       "      <td>IFA Magazine</td>\n",
       "      <td>fed risks falling 'behind the curve', charles ...</td>\n",
       "    </tr>\n",
       "    <tr>\n",
       "      <th>3</th>\n",
       "      <td>Moneynews</td>\n",
       "      <td>fed's plosser: nasty weather has curbed job gr...</td>\n",
       "    </tr>\n",
       "    <tr>\n",
       "      <th>4</th>\n",
       "      <td>NASDAQ</td>\n",
       "      <td>plosser: fed may have to accelerate tapering pace</td>\n",
       "    </tr>\n",
       "  </tbody>\n",
       "</table>\n",
       "</div>"
      ],
      "text/plain": [
       "      publisher                                              title\n",
       "0      Livemint  fed's charles plosser sees high bar for change...\n",
       "1  IFA Magazine  us open: stocks fall after fed official hints ...\n",
       "2  IFA Magazine  fed risks falling 'behind the curve', charles ...\n",
       "3     Moneynews  fed's plosser: nasty weather has curbed job gr...\n",
       "4        NASDAQ  plosser: fed may have to accelerate tapering pace"
      ]
     },
     "execution_count": 2,
     "metadata": {},
     "output_type": "execute_result"
    }
   ],
   "source": [
    "import pandas as pd\n",
    "\n",
    "# Extract text column from a dataframe\n",
    "df = pd.read_csv(os.path.join(\"data\", \"news.csv\"))\n",
    "df.head()[['publisher', 'title']]\n",
    "\n",
    "# Convert text column to lowercase\n",
    "df['title'] = df['title'].str.lower()\n",
    "df.head()[['publisher', 'title']]"
   ]
  },
  {
   "cell_type": "markdown",
   "metadata": {},
   "source": [
    "### Online Resource"
   ]
  },
  {
   "cell_type": "code",
   "execution_count": 3,
   "metadata": {
    "scrolled": true
   },
   "outputs": [
    {
     "name": "stdout",
     "output_type": "stream",
     "text": [
      "{\n",
      "    \"success\": {\n",
      "        \"total\": 1\n",
      "    },\n",
      "    \"contents\": {\n",
      "        \"quotes\": [\n",
      "            {\n",
      "                \"quote\": \"I keep asking myself these three questions.. What do you have? What do you want? What will you give up?\",\n",
      "                \"length\": \"105\",\n",
      "                \"author\": \"Jack Ma\",\n",
      "                \"tags\": [\n",
      "                    \"barriers\",\n",
      "                    \"inspire\",\n",
      "                    \"mind\"\n",
      "                ],\n",
      "                \"category\": \"inspire\",\n",
      "                \"language\": \"en\",\n",
      "                \"date\": \"2021-02-27\",\n",
      "                \"permalink\": \"https://theysaidso.com/quote/jack-ma-i-keep-asking-myself-these-three-questions-what-do-you-have-what-do-you\",\n",
      "                \"id\": \"7o1kOJyXP0E_t7Z2IXyXuweF\",\n",
      "                \"background\": \"https://theysaidso.com/img/qod/qod-inspire.jpg\",\n",
      "                \"title\": \"Inspiring Quote of the day\"\n",
      "            }\n",
      "        ]\n",
      "    },\n",
      "    \"baseurl\": \"https://theysaidso.com\",\n",
      "    \"copyright\": {\n",
      "        \"year\": 2023,\n",
      "        \"url\": \"https://theysaidso.com\"\n",
      "    }\n",
      "}\n",
      "I keep asking myself these three questions.. What do you have? What do you want? What will you give up? \n",
      "-- Jack Ma\n"
     ]
    }
   ],
   "source": [
    "import requests\n",
    "import json\n",
    "\n",
    "# Fetch data from a REST API\n",
    "r = requests.get(\n",
    "    \"https://quotes.rest/qod.json\")\n",
    "res = r.json()\n",
    "print(json.dumps(res, indent=4))\n",
    "\n",
    "# Extract relevant object and field\n",
    "q = res[\"contents\"][\"quotes\"][0]\n",
    "print(q[\"quote\"], \"\\n--\", q[\"author\"])"
   ]
  },
  {
   "cell_type": "markdown",
   "metadata": {},
   "source": [
    "## Cleaning"
   ]
  },
  {
   "cell_type": "code",
   "execution_count": 10,
   "metadata": {
    "scrolled": true
   },
   "outputs": [
    {
     "name": "stdout",
     "output_type": "stream",
     "text": [
      "<html lang=\"en\" op=\"news\"><head><meta name=\"referrer\" content=\"origin\"><meta name=\"viewport\" content=\"width=device-width, initial-scale=1.0\"><link rel=\"stylesheet\" type=\"text/css\" href=\"news.css?qNWwHkd4E8FELceGdmI5\">\n",
      "        <link rel=\"shortcut icon\" href=\"favicon.ico\">\n",
      "          <link rel=\"alternate\" type=\"application/rss+xml\" title=\"RSS\" href=\"rss\">\n",
      "        <title>Hacker News</title></head><body><center><table id=\"hnmain\" border=\"0\" cellpadding=\"0\" cellspacing=\"0\" width=\"85%\" bgcolor=\"#f6f6ef\">\n",
      "        <tr><td bgcolor=\"#ff6600\"><table border=\"0\" cellpadding=\"0\" cellspacing=\"0\" width=\"100%\" style=\"padding:2px\"><tr><td style=\"width:18px;padding-right:4px\"><a href=\"https://news.ycombinator.com\"><img src=\"y18.gif\" width=\"18\" height=\"18\" style=\"border:1px white solid;\"></a></td>\n",
      "                  <td style=\"line-height:12pt; height:10px;\"><span class=\"pagetop\"><b class=\"hnname\"><a href=\"news\">Hacker News</a></b>\n",
      "              <a href=\"newest\">new</a> | <a href=\"front\">past</a> | <a href=\"newcomments\">comments</a> | <a href=\"ask\">ask</a> | <a href=\"show\">show</a> | <a href=\"jobs\">jobs</a> | <a href=\"submit\">submit</a>            </span></td><td style=\"text-align:right;padding-right:4px;\"><span class=\"pagetop\">\n",
      "                              <a href=\"login?goto=news\">login</a>\n",
      "                          </span></td>\n",
      "              </tr></table></td></tr>\n",
      "<tr id=\"pagespace\" title=\"\" style=\"height:10px\"></tr><tr><td><table border=\"0\" cellpadding=\"0\" cellspacing=\"0\" class=\"itemlist\">\n",
      "              <tr class='athing' id='26280266'>\n",
      "      <td align=\"right\" valign=\"top\" class=\"title\"><span class=\"rank\">1.</span></td>      <td valign=\"top\" class=\"votelinks\"><center><a id='up_26280266' href='vote?id=26280266&amp;how=up&amp;goto=news'><div class='votearrow' title='upvote'></div></a></center></td><td class=\"title\"><a href=\"https://github.com/trailofbits/graphtage\" class=\"storylink\">Graphtage: A semantic diff utility for JSON, HTML, YAML, CSV, etc</a><span class=\"sitebit comhead\"> (<a href=\"from?site=github.com/trailofbits\"><span class=\"sitestr\">github.com/trailofbits</span></a>)</span></td></tr><tr><td colspan=\"2\"></td><td class=\"subtext\">\n",
      "        <span class=\"score\" id=\"score_26280266\">196 points</span> by <a href=\"user?id=autoditype\" class=\"hnuser\">autoditype</a> <span class=\"age\"><a href=\"item?id=26280266\">5 hours ago</a></span> <span id=\"unv_26280266\"></span> | <a href=\"hide?id=26280266&amp;goto=news\">hide</a> | <a href=\"item?id=26280266\">16&nbsp;comments</a>              </td></tr>\n",
      "      <tr class=\"spacer\" style=\"height:5px\"></tr>\n",
      "                <tr class='athing' id='26271851'>\n",
      "      <td align=\"right\" valign=\"top\" class=\"title\"><span class=\"rank\">2.</span></td>      <td valign=\"top\" class=\"votelinks\"><center><a id='up_26271851' href='vote?id=26271851&amp;how=up&amp;goto=news'><div class='votearrow' title='upvote'></div></a></center></td><td class=\"title\"><a href=\"https://blog.drewolson.org/purescript-and-haskell\" class=\"storylink\">PureScript and Haskell</a><span class=\"sitebit comhead\"> (<a href=\"from?site=drewolson.org\"><span class=\"sitestr\">drewolson.org</span></a>)</span></td></tr><tr><td colspan=\"2\"></td><td class=\"subtext\">\n",
      "        <span class=\"score\" id=\"score_26271851\">78 points</span> by <a href=\"user?id=allenleein\" class=\"hnuser\">allenleein</a> <span class=\"age\"><a href=\"item?id=26271851\">3 hours ago</a></span> <span id=\"unv_26271851\"></span> | <a href=\"hide?id=26271851&amp;goto=news\">hide</a> | <a href=\"item?id=26271851\">8&nbsp;comments</a>              </td></tr>\n",
      "      <tr class=\"spacer\" style=\"height:5px\"></tr>\n",
      "                <tr class='athing' id='26280130'>\n",
      "      <td align=\"right\" valign=\"top\" class=\"title\"><span class=\"rank\">3.</span></td>      <td valign=\"top\" class=\"votelinks\"><center><a id='up_26280130' href='vote?id=26280130&amp;how=up&amp;goto=news'><div class='votearrow' title='upvote'></div></a></center></td><td class=\"title\"><a href=\"https://www.sec.gov/news/press-release/2021-35\" class=\"storylink\">SEC suspends trading in 15 securities due to questionable social media activity</a><span class=\"sitebit comhead\"> (<a href=\"from?site=sec.gov\"><span class=\"sitestr\">sec.gov</span></a>)</span></td></tr><tr><td colspan=\"2\"></td><td class=\"subtext\">\n",
      "        <span class=\"score\" id=\"score_26280130\">194 points</span> by <a href=\"user?id=minkeymaniac\" class=\"hnuser\">minkeymaniac</a> <span class=\"age\"><a href=\"item?id=26280130\">5 hours ago</a></span> <span id=\"unv_26280130\"></span> | <a href=\"hide?id=26280130&amp;goto=news\">hide</a> | <a href=\"item?id=26280130\">129&nbsp;comments</a>              </td></tr>\n",
      "      <tr class=\"spacer\" style=\"height:5px\"></tr>\n",
      "                <tr class='athing' id='26281864'>\n",
      "      <td align=\"right\" valign=\"top\" class=\"title\"><span class=\"rank\">4.</span></td>      <td valign=\"top\" class=\"votelinks\"><center><a id='up_26281864' href='vote?id=26281864&amp;how=up&amp;goto=news'><div class='votearrow' title='upvote'></div></a></center></td><td class=\"title\"><a href=\"https://blog.yifangu.com/2021/02/26/mining-ethereum-on-a-m1-mac-gpu/\" class=\"storylink\">Mining Ethereum on M1 Mac GPU</a><span class=\"sitebit comhead\"> (<a href=\"from?site=yifangu.com\"><span class=\"sitestr\">yifangu.com</span></a>)</span></td></tr><tr><td colspan=\"2\"></td><td class=\"subtext\">\n",
      "        <span class=\"score\" id=\"score_26281864\">15 points</span> by <a href=\"user?id=gyf304\" class=\"hnuser\">gyf304</a> <span class=\"age\"><a href=\"item?id=26281864\">1 hour ago</a></span> <span id=\"unv_26281864\"></span> | <a href=\"hide?id=26281864&amp;goto=news\">hide</a> | <a href=\"item?id=26281864\">discuss</a>              </td></tr>\n",
      "      <tr class=\"spacer\" style=\"height:5px\"></tr>\n",
      "                <tr class='athing' id='26277602'>\n",
      "      <td align=\"right\" valign=\"top\" class=\"title\"><span class=\"rank\">5.</span></td>      <td valign=\"top\" class=\"votelinks\"><center><a id='up_26277602' href='vote?id=26277602&amp;how=up&amp;goto=news'><div class='votearrow' title='upvote'></div></a></center></td><td class=\"title\"><a href=\"https://hummingbard.com/hummingbard/introducing-hummingbard\" class=\"storylink\">Show HN: Hummingbard – decentralized communities built on Matrix</a><span class=\"sitebit comhead\"> (<a href=\"from?site=hummingbard.com\"><span class=\"sitestr\">hummingbard.com</span></a>)</span></td></tr><tr><td colspan=\"2\"></td><td class=\"subtext\">\n",
      "        <span class=\"score\" id=\"score_26277602\">261 points</span> by <a href=\"user?id=SubGenius\" class=\"hnuser\">SubGenius</a> <span class=\"age\"><a href=\"item?id=26277602\">9 hours ago</a></span> <span id=\"unv_26277602\"></span> | <a href=\"hide?id=26277602&amp;goto=news\">hide</a> | <a href=\"item?id=26277602\">46&nbsp;comments</a>              </td></tr>\n",
      "      <tr class=\"spacer\" style=\"height:5px\"></tr>\n",
      "                <tr class='athing' id='26281103'>\n",
      "      <td align=\"right\" valign=\"top\" class=\"title\"><span class=\"rank\">6.</span></td>      <td valign=\"top\" class=\"votelinks\"><center><a id='up_26281103' href='vote?id=26281103&amp;how=up&amp;goto=news'><div class='votearrow' title='upvote'></div></a></center></td><td class=\"title\"><a href=\"https://offgridpermaculture.com/Finding_Land/Free_Land___Living_Off_Grid_With_No_Money.html\" class=\"storylink\">Some small USA towns giving away housing lots</a><span class=\"sitebit comhead\"> (<a href=\"from?site=offgridpermaculture.com\"><span class=\"sitestr\">offgridpermaculture.com</span></a>)</span></td></tr><tr><td colspan=\"2\"></td><td class=\"subtext\">\n",
      "        <span class=\"score\" id=\"score_26281103\">40 points</span> by <a href=\"user?id=SQL2219\" class=\"hnuser\">SQL2219</a> <span class=\"age\"><a href=\"item?id=26281103\">3 hours ago</a></span> <span id=\"unv_26281103\"></span> | <a href=\"hide?id=26281103&amp;goto=news\">hide</a> | <a href=\"item?id=26281103\">13&nbsp;comments</a>              </td></tr>\n",
      "      <tr class=\"spacer\" style=\"height:5px\"></tr>\n",
      "                <tr class='athing' id='26277501'>\n",
      "      <td align=\"right\" valign=\"top\" class=\"title\"><span class=\"rank\">7.</span></td>      <td valign=\"top\" class=\"votelinks\"><center><a id='up_26277501' href='vote?id=26277501&amp;how=up&amp;goto=news'><div class='votearrow' title='upvote'></div></a></center></td><td class=\"title\"><a href=\"https://eng.uber.com/how-uber-deals-with-large-ios-app-size/\" class=\"storylink\">How Uber Deals with Large iOS App Size</a><span class=\"sitebit comhead\"> (<a href=\"from?site=uber.com\"><span class=\"sitestr\">uber.com</span></a>)</span></td></tr><tr><td colspan=\"2\"></td><td class=\"subtext\">\n",
      "        <span class=\"score\" id=\"score_26277501\">189 points</span> by <a href=\"user?id=rakingleaves\" class=\"hnuser\">rakingleaves</a> <span class=\"age\"><a href=\"item?id=26277501\">9 hours ago</a></span> <span id=\"unv_26277501\"></span> | <a href=\"hide?id=26277501&amp;goto=news\">hide</a> | <a href=\"item?id=26277501\">161&nbsp;comments</a>              </td></tr>\n",
      "      <tr class=\"spacer\" style=\"height:5px\"></tr>\n",
      "                <tr class='athing' id='26271117'>\n",
      "      <td align=\"right\" valign=\"top\" class=\"title\"><span class=\"rank\">8.</span></td>      <td valign=\"top\" class=\"votelinks\"><center><a id='up_26271117' href='vote?id=26271117&amp;how=up&amp;goto=news'><div class='votearrow' title='upvote'></div></a></center></td><td class=\"title\"><a href=\"https://justine.lol/redbean/index.html\" class=\"storylink\">Show HN: Redbean – Single-file distributable web server</a><span class=\"sitebit comhead\"> (<a href=\"from?site=justine.lol\"><span class=\"sitestr\">justine.lol</span></a>)</span></td></tr><tr><td colspan=\"2\"></td><td class=\"subtext\">\n",
      "        <span class=\"score\" id=\"score_26271117\">1478 points</span> by <a href=\"user?id=jart\" class=\"hnuser\">jart</a> <span class=\"age\"><a href=\"item?id=26271117\">22 hours ago</a></span> <span id=\"unv_26271117\"></span> | <a href=\"hide?id=26271117&amp;goto=news\">hide</a> | <a href=\"item?id=26271117\">195&nbsp;comments</a>              </td></tr>\n",
      "      <tr class=\"spacer\" style=\"height:5px\"></tr>\n",
      "                <tr class='athing' id='26280808'>\n",
      "      <td align=\"right\" valign=\"top\" class=\"title\"><span class=\"rank\">9.</span></td>      <td valign=\"top\" class=\"votelinks\"><center><a id='up_26280808' href='vote?id=26280808&amp;how=up&amp;goto=news'><div class='votearrow' title='upvote'></div></a></center></td><td class=\"title\"><a href=\"https://twitter.com/__jakub_g/status/1365400306767581185\" class=\"storylink\">Firefox replaces Google Analytics with fake no-op in strict tracking protection</a><span class=\"sitebit comhead\"> (<a href=\"from?site=twitter.com/__jakub_g\"><span class=\"sitestr\">twitter.com/__jakub_g</span></a>)</span></td></tr><tr><td colspan=\"2\"></td><td class=\"subtext\">\n",
      "        <span class=\"score\" id=\"score_26280808\">259 points</span> by <a href=\"user?id=crazypython\" class=\"hnuser\">crazypython</a> <span class=\"age\"><a href=\"item?id=26280808\">4 hours ago</a></span> <span id=\"unv_26280808\"></span> | <a href=\"hide?id=26280808&amp;goto=news\">hide</a> | <a href=\"item?id=26280808\">75&nbsp;comments</a>              </td></tr>\n",
      "      <tr class=\"spacer\" style=\"height:5px\"></tr>\n",
      "                <tr class='athing' id='26281682'>\n",
      "      <td align=\"right\" valign=\"top\" class=\"title\"><span class=\"rank\">10.</span></td>      <td></td><td class=\"title\"><a href=\"https://jobs.lever.co/astranis/b99fb41e-325d-43ee-b82b-22218d32c07d\" class=\"storylink\" rel=\"nofollow\">Astranis (YC W16) is hiring a full-cycle tech recruiter to help grow our team</a><span class=\"sitebit comhead\"> (<a href=\"from?site=lever.co\"><span class=\"sitestr\">lever.co</span></a>)</span></td></tr><tr><td colspan=\"2\"></td><td class=\"subtext\">\n",
      "        <span class=\"age\"><a href=\"item?id=26281682\">2 hours ago</a></span> | <a href=\"hide?id=26281682&amp;goto=news\">hide</a>      </td></tr>\n",
      "      <tr class=\"spacer\" style=\"height:5px\"></tr>\n",
      "                <tr class='athing' id='26261675'>\n",
      "      <td align=\"right\" valign=\"top\" class=\"title\"><span class=\"rank\">11.</span></td>      <td valign=\"top\" class=\"votelinks\"><center><a id='up_26261675' href='vote?id=26261675&amp;how=up&amp;goto=news'><div class='votearrow' title='upvote'></div></a></center></td><td class=\"title\"><a href=\"https://smoothstep.io\" class=\"storylink\">Smoothstep.io, a Shader Animation Tool</a><span class=\"sitebit comhead\"> (<a href=\"from?site=smoothstep.io\"><span class=\"sitestr\">smoothstep.io</span></a>)</span></td></tr><tr><td colspan=\"2\"></td><td class=\"subtext\">\n",
      "        <span class=\"score\" id=\"score_26261675\">96 points</span> by <a href=\"user?id=bwidlar\" class=\"hnuser\">bwidlar</a> <span class=\"age\"><a href=\"item?id=26261675\">6 hours ago</a></span> <span id=\"unv_26261675\"></span> | <a href=\"hide?id=26261675&amp;goto=news\">hide</a> | <a href=\"item?id=26261675\">10&nbsp;comments</a>              </td></tr>\n",
      "      <tr class=\"spacer\" style=\"height:5px\"></tr>\n",
      "                <tr class='athing' id='26277396'>\n",
      "      <td align=\"right\" valign=\"top\" class=\"title\"><span class=\"rank\">12.</span></td>      <td valign=\"top\" class=\"votelinks\"><center><a id='up_26277396' href='vote?id=26277396&amp;how=up&amp;goto=news'><div class='votearrow' title='upvote'></div></a></center></td><td class=\"title\"><a href=\"https://www.bnnbloomberg.ca/judge-in-google-case-disturbed-that-even-incognito-users-are-tracked-1.1569065\" class=\"storylink\">Judge in Google case disturbed that 'incognito' users are tracked</a><span class=\"sitebit comhead\"> (<a href=\"from?site=bnnbloomberg.ca\"><span class=\"sitestr\">bnnbloomberg.ca</span></a>)</span></td></tr><tr><td colspan=\"2\"></td><td class=\"subtext\">\n",
      "        <span class=\"score\" id=\"score_26277396\">776 points</span> by <a href=\"user?id=johncena33\" class=\"hnuser\">johncena33</a> <span class=\"age\"><a href=\"item?id=26277396\">9 hours ago</a></span> <span id=\"unv_26277396\"></span> | <a href=\"hide?id=26277396&amp;goto=news\">hide</a> | <a href=\"item?id=26277396\">318&nbsp;comments</a>              </td></tr>\n",
      "      <tr class=\"spacer\" style=\"height:5px\"></tr>\n",
      "                <tr class='athing' id='26274516'>\n",
      "      <td align=\"right\" valign=\"top\" class=\"title\"><span class=\"rank\">13.</span></td>      <td valign=\"top\" class=\"votelinks\"><center><a id='up_26274516' href='vote?id=26274516&amp;how=up&amp;goto=news'><div class='votearrow' title='upvote'></div></a></center></td><td class=\"title\"><a href=\"https://www.joshwcomeau.com/animation/css-transitions/\" class=\"storylink\">An interactive guide to CSS transitions</a><span class=\"sitebit comhead\"> (<a href=\"from?site=joshwcomeau.com\"><span class=\"sitestr\">joshwcomeau.com</span></a>)</span></td></tr><tr><td colspan=\"2\"></td><td class=\"subtext\">\n",
      "        <span class=\"score\" id=\"score_26274516\">230 points</span> by <a href=\"user?id=tomaszs\" class=\"hnuser\">tomaszs</a> <span class=\"age\"><a href=\"item?id=26274516\">10 hours ago</a></span> <span id=\"unv_26274516\"></span> | <a href=\"hide?id=26274516&amp;goto=news\">hide</a> | <a href=\"item?id=26274516\">30&nbsp;comments</a>              </td></tr>\n",
      "      <tr class=\"spacer\" style=\"height:5px\"></tr>\n",
      "                <tr class='athing' id='26279630'>\n",
      "      <td align=\"right\" valign=\"top\" class=\"title\"><span class=\"rank\">14.</span></td>      <td valign=\"top\" class=\"votelinks\"><center><a id='up_26279630' href='vote?id=26279630&amp;how=up&amp;goto=news'><div class='votearrow' title='upvote'></div></a></center></td><td class=\"title\"><a href=\"https://github.com/irevenko/tsukae\" class=\"storylink\">Show HN: Unix tool that visualizes shell commands usage</a><span class=\"sitebit comhead\"> (<a href=\"from?site=github.com/irevenko\"><span class=\"sitestr\">github.com/irevenko</span></a>)</span></td></tr><tr><td colspan=\"2\"></td><td class=\"subtext\">\n",
      "        <span class=\"score\" id=\"score_26279630\">52 points</span> by <a href=\"user?id=irevenko\" class=\"hnuser\">irevenko</a> <span class=\"age\"><a href=\"item?id=26279630\">6 hours ago</a></span> <span id=\"unv_26279630\"></span> | <a href=\"hide?id=26279630&amp;goto=news\">hide</a> | <a href=\"item?id=26279630\">13&nbsp;comments</a>              </td></tr>\n",
      "      <tr class=\"spacer\" style=\"height:5px\"></tr>\n",
      "                <tr class='athing' id='26271743'>\n",
      "      <td align=\"right\" valign=\"top\" class=\"title\"><span class=\"rank\">15.</span></td>      <td valign=\"top\" class=\"votelinks\"><center><a id='up_26271743' href='vote?id=26271743&amp;how=up&amp;goto=news'><div class='votearrow' title='upvote'></div></a></center></td><td class=\"title\"><a href=\"https://www.sciencemag.org/news/2021/02/fleets-radar-satellites-are-measuring-movements-earth-never\" class=\"storylink\">Fleets of radar satellites are measuring movements on Earth like never before</a><span class=\"sitebit comhead\"> (<a href=\"from?site=sciencemag.org\"><span class=\"sitestr\">sciencemag.org</span></a>)</span></td></tr><tr><td colspan=\"2\"></td><td class=\"subtext\">\n",
      "        <span class=\"score\" id=\"score_26271743\">43 points</span> by <a href=\"user?id=sohkamyung\" class=\"hnuser\">sohkamyung</a> <span class=\"age\"><a href=\"item?id=26271743\">5 hours ago</a></span> <span id=\"unv_26271743\"></span> | <a href=\"hide?id=26271743&amp;goto=news\">hide</a> | <a href=\"item?id=26271743\">13&nbsp;comments</a>              </td></tr>\n",
      "      <tr class=\"spacer\" style=\"height:5px\"></tr>\n",
      "                <tr class='athing' id='26275091'>\n",
      "      <td align=\"right\" valign=\"top\" class=\"title\"><span class=\"rank\">16.</span></td>      <td valign=\"top\" class=\"votelinks\"><center><a id='up_26275091' href='vote?id=26275091&amp;how=up&amp;goto=news'><div class='votearrow' title='upvote'></div></a></center></td><td class=\"title\"><a href=\"https://dynomight.net/better-DIY-air-purifier.html\" class=\"storylink\">The Cuboid: A DIY air purifier that's better than a box fan</a><span class=\"sitebit comhead\"> (<a href=\"from?site=dynomight.net\"><span class=\"sitestr\">dynomight.net</span></a>)</span></td></tr><tr><td colspan=\"2\"></td><td class=\"subtext\">\n",
      "        <span class=\"score\" id=\"score_26275091\">186 points</span> by <a href=\"user?id=dynm\" class=\"hnuser\">dynm</a> <span class=\"age\"><a href=\"item?id=26275091\">12 hours ago</a></span> <span id=\"unv_26275091\"></span> | <a href=\"hide?id=26275091&amp;goto=news\">hide</a> | <a href=\"item?id=26275091\">117&nbsp;comments</a>              </td></tr>\n",
      "      <tr class=\"spacer\" style=\"height:5px\"></tr>\n",
      "                <tr class='athing' id='26272092'>\n",
      "      <td align=\"right\" valign=\"top\" class=\"title\"><span class=\"rank\">17.</span></td>      <td valign=\"top\" class=\"votelinks\"><center><a id='up_26272092' href='vote?id=26272092&amp;how=up&amp;goto=news'><div class='votearrow' title='upvote'></div></a></center></td><td class=\"title\"><a href=\"https://kk.org/thetechnium/ill-pay-you-to/\" class=\"storylink\">I'll pay you to read my book (2013)</a><span class=\"sitebit comhead\"> (<a href=\"from?site=kk.org\"><span class=\"sitestr\">kk.org</span></a>)</span></td></tr><tr><td colspan=\"2\"></td><td class=\"subtext\">\n",
      "        <span class=\"score\" id=\"score_26272092\">13 points</span> by <a href=\"user?id=simonebrunozzi\" class=\"hnuser\">simonebrunozzi</a> <span class=\"age\"><a href=\"item?id=26272092\">2 hours ago</a></span> <span id=\"unv_26272092\"></span> | <a href=\"hide?id=26272092&amp;goto=news\">hide</a> | <a href=\"item?id=26272092\">6&nbsp;comments</a>              </td></tr>\n",
      "      <tr class=\"spacer\" style=\"height:5px\"></tr>\n",
      "                <tr class='athing' id='26279372'>\n",
      "      <td align=\"right\" valign=\"top\" class=\"title\"><span class=\"rank\">18.</span></td>      <td valign=\"top\" class=\"votelinks\"><center><a id='up_26279372' href='vote?id=26279372&amp;how=up&amp;goto=news'><div class='votearrow' title='upvote'></div></a></center></td><td class=\"title\"><a href=\"https://gizmodo.com/deep-nostalgia-can-turn-old-photos-of-your-relatives-1846363190\" class=\"storylink\">‘Deep Nostalgia’ can turn old photos of your relatives into moving videos</a><span class=\"sitebit comhead\"> (<a href=\"from?site=gizmodo.com\"><span class=\"sitestr\">gizmodo.com</span></a>)</span></td></tr><tr><td colspan=\"2\"></td><td class=\"subtext\">\n",
      "        <span class=\"score\" id=\"score_26279372\">205 points</span> by <a href=\"user?id=DamnInteresting\" class=\"hnuser\">DamnInteresting</a> <span class=\"age\"><a href=\"item?id=26279372\">6 hours ago</a></span> <span id=\"unv_26279372\"></span> | <a href=\"hide?id=26279372&amp;goto=news\">hide</a> | <a href=\"item?id=26279372\">63&nbsp;comments</a>              </td></tr>\n",
      "      <tr class=\"spacer\" style=\"height:5px\"></tr>\n",
      "                <tr class='athing' id='26233683'>\n",
      "      <td align=\"right\" valign=\"top\" class=\"title\"><span class=\"rank\">19.</span></td>      <td valign=\"top\" class=\"votelinks\"><center><a id='up_26233683' href='vote?id=26233683&amp;how=up&amp;goto=news'><div class='votearrow' title='upvote'></div></a></center></td><td class=\"title\"><a href=\"https://overreacted.io/before-you-memo/\" class=\"storylink\" rel=\"nofollow\">Before You Memo()</a><span class=\"sitebit comhead\"> (<a href=\"from?site=overreacted.io\"><span class=\"sitestr\">overreacted.io</span></a>)</span></td></tr><tr><td colspan=\"2\"></td><td class=\"subtext\">\n",
      "        <span class=\"score\" id=\"score_26233683\">7 points</span> by <a href=\"user?id=feross\" class=\"hnuser\">feross</a> <span class=\"age\"><a href=\"item?id=26233683\">1 hour ago</a></span> <span id=\"unv_26233683\"></span> | <a href=\"hide?id=26233683&amp;goto=news\">hide</a> | <a href=\"item?id=26233683\">1&nbsp;comment</a>              </td></tr>\n",
      "      <tr class=\"spacer\" style=\"height:5px\"></tr>\n",
      "                <tr class='athing' id='26280727'>\n",
      "      <td align=\"right\" valign=\"top\" class=\"title\"><span class=\"rank\">20.</span></td>      <td valign=\"top\" class=\"votelinks\"><center><a id='up_26280727' href='vote?id=26280727&amp;how=up&amp;goto=news'><div class='votearrow' title='upvote'></div></a></center></td><td class=\"title\"><a href=\"https://artificialintelligence-news.com/2020/10/28/medical-chatbot-openai-gpt3-patient-kill-themselves/\" class=\"storylink\">Medical chatbot using OpenAI’s GPT-3 told a fake patient to kill themselves</a><span class=\"sitebit comhead\"> (<a href=\"from?site=artificialintelligence-news.com\"><span class=\"sitestr\">artificialintelligence-news.com</span></a>)</span></td></tr><tr><td colspan=\"2\"></td><td class=\"subtext\">\n",
      "        <span class=\"score\" id=\"score_26280727\">88 points</span> by <a href=\"user?id=weare138\" class=\"hnuser\">weare138</a> <span class=\"age\"><a href=\"item?id=26280727\">4 hours ago</a></span> <span id=\"unv_26280727\"></span> | <a href=\"hide?id=26280727&amp;goto=news\">hide</a> | <a href=\"item?id=26280727\">50&nbsp;comments</a>              </td></tr>\n",
      "      <tr class=\"spacer\" style=\"height:5px\"></tr>\n",
      "                <tr class='athing' id='26278052'>\n",
      "      <td align=\"right\" valign=\"top\" class=\"title\"><span class=\"rank\">21.</span></td>      <td valign=\"top\" class=\"votelinks\"><center><a id='up_26278052' href='vote?id=26278052&amp;how=up&amp;goto=news'><div class='votearrow' title='upvote'></div></a></center></td><td class=\"title\"><a href=\"https://www.chiark.greenend.org.uk/~sgtatham/tweak/\" class=\"storylink\">Tweak: An Efficient Hex Editor</a><span class=\"sitebit comhead\"> (<a href=\"from?site=greenend.org.uk\"><span class=\"sitestr\">greenend.org.uk</span></a>)</span></td></tr><tr><td colspan=\"2\"></td><td class=\"subtext\">\n",
      "        <span class=\"score\" id=\"score_26278052\">80 points</span> by <a href=\"user?id=hprotagonist\" class=\"hnuser\">hprotagonist</a> <span class=\"age\"><a href=\"item?id=26278052\">8 hours ago</a></span> <span id=\"unv_26278052\"></span> | <a href=\"hide?id=26278052&amp;goto=news\">hide</a> | <a href=\"item?id=26278052\">28&nbsp;comments</a>              </td></tr>\n",
      "      <tr class=\"spacer\" style=\"height:5px\"></tr>\n",
      "                <tr class='athing' id='26276179'>\n",
      "      <td align=\"right\" valign=\"top\" class=\"title\"><span class=\"rank\">22.</span></td>      <td valign=\"top\" class=\"votelinks\"><center><a id='up_26276179' href='vote?id=26276179&amp;how=up&amp;goto=news'><div class='votearrow' title='upvote'></div></a></center></td><td class=\"title\"><a href=\"item?id=26276179\" class=\"storylink\">Launch HN: Insight (YC W19) – an iOS browser with easy-to-make extensions</a></td></tr><tr><td colspan=\"2\"></td><td class=\"subtext\">\n",
      "        <span class=\"score\" id=\"score_26276179\">66 points</span> by <a href=\"user?id=archajain\" class=\"hnuser\">archajain</a> <span class=\"age\"><a href=\"item?id=26276179\">10 hours ago</a></span> <span id=\"unv_26276179\"></span> | <a href=\"hide?id=26276179&amp;goto=news\">hide</a> | <a href=\"item?id=26276179\">40&nbsp;comments</a>              </td></tr>\n",
      "      <tr class=\"spacer\" style=\"height:5px\"></tr>\n",
      "                <tr class='athing' id='26280357'>\n",
      "      <td align=\"right\" valign=\"top\" class=\"title\"><span class=\"rank\">23.</span></td>      <td valign=\"top\" class=\"votelinks\"><center><a id='up_26280357' href='vote?id=26280357&amp;how=up&amp;goto=news'><div class='votearrow' title='upvote'></div></a></center></td><td class=\"title\"><a href=\"https://blog.mozilla.org/firefox/the-fox-is-still-in-the-firefox-logo/\" class=\"storylink\">Remain Calm: The fox is still in the Firefox logo</a><span class=\"sitebit comhead\"> (<a href=\"from?site=blog.mozilla.org\"><span class=\"sitestr\">blog.mozilla.org</span></a>)</span></td></tr><tr><td colspan=\"2\"></td><td class=\"subtext\">\n",
      "        <span class=\"score\" id=\"score_26280357\">109 points</span> by <a href=\"user?id=Fabricio20\" class=\"hnuser\">Fabricio20</a> <span class=\"age\"><a href=\"item?id=26280357\">5 hours ago</a></span> <span id=\"unv_26280357\"></span> | <a href=\"hide?id=26280357&amp;goto=news\">hide</a> | <a href=\"item?id=26280357\">58&nbsp;comments</a>              </td></tr>\n",
      "      <tr class=\"spacer\" style=\"height:5px\"></tr>\n",
      "                <tr class='athing' id='26274466'>\n",
      "      <td align=\"right\" valign=\"top\" class=\"title\"><span class=\"rank\">24.</span></td>      <td valign=\"top\" class=\"votelinks\"><center><a id='up_26274466' href='vote?id=26274466&amp;how=up&amp;goto=news'><div class='votearrow' title='upvote'></div></a></center></td><td class=\"title\"><a href=\"http://www.jemarch.net/poke-1.0-relnotes.html\" class=\"storylink\">GNU poke 1.0</a><span class=\"sitebit comhead\"> (<a href=\"from?site=jemarch.net\"><span class=\"sitestr\">jemarch.net</span></a>)</span></td></tr><tr><td colspan=\"2\"></td><td class=\"subtext\">\n",
      "        <span class=\"score\" id=\"score_26274466\">161 points</span> by <a href=\"user?id=todsacerdoti\" class=\"hnuser\">todsacerdoti</a> <span class=\"age\"><a href=\"item?id=26274466\">13 hours ago</a></span> <span id=\"unv_26274466\"></span> | <a href=\"hide?id=26274466&amp;goto=news\">hide</a> | <a href=\"item?id=26274466\">31&nbsp;comments</a>              </td></tr>\n",
      "      <tr class=\"spacer\" style=\"height:5px\"></tr>\n",
      "                <tr class='athing' id='26275400'>\n",
      "      <td align=\"right\" valign=\"top\" class=\"title\"><span class=\"rank\">25.</span></td>      <td valign=\"top\" class=\"votelinks\"><center><a id='up_26275400' href='vote?id=26275400&amp;how=up&amp;goto=news'><div class='votearrow' title='upvote'></div></a></center></td><td class=\"title\"><a href=\"https://www.npr.org/2021/02/26/971367875/why-is-facebook-launching-an-all-out-war-on-apples-upcoming-iphone-update?t=1614351654558\" class=\"storylink\">Facebook is pushing back on Apple’s new iPhone privacy rules</a><span class=\"sitebit comhead\"> (<a href=\"from?site=npr.org\"><span class=\"sitestr\">npr.org</span></a>)</span></td></tr><tr><td colspan=\"2\"></td><td class=\"subtext\">\n",
      "        <span class=\"score\" id=\"score_26275400\">579 points</span> by <a href=\"user?id=pedro-guimaraes\" class=\"hnuser\">pedro-guimaraes</a> <span class=\"age\"><a href=\"item?id=26275400\">12 hours ago</a></span> <span id=\"unv_26275400\"></span> | <a href=\"hide?id=26275400&amp;goto=news\">hide</a> | <a href=\"item?id=26275400\">627&nbsp;comments</a>              </td></tr>\n",
      "      <tr class=\"spacer\" style=\"height:5px\"></tr>\n",
      "                <tr class='athing' id='26273925'>\n",
      "      <td align=\"right\" valign=\"top\" class=\"title\"><span class=\"rank\">26.</span></td>      <td valign=\"top\" class=\"votelinks\"><center><a id='up_26273925' href='vote?id=26273925&amp;how=up&amp;goto=news'><div class='votearrow' title='upvote'></div></a></center></td><td class=\"title\"><a href=\"https://www.scientificamerican.com/article/the-covid-zoom-boom-is-reshaping-sign-language/\" class=\"storylink\">The Covid Zoom Boom Is Reshaping Sign Language</a><span class=\"sitebit comhead\"> (<a href=\"from?site=scientificamerican.com\"><span class=\"sitestr\">scientificamerican.com</span></a>)</span></td></tr><tr><td colspan=\"2\"></td><td class=\"subtext\">\n",
      "        <span class=\"score\" id=\"score_26273925\">172 points</span> by <a href=\"user?id=bbirnbaum\" class=\"hnuser\">bbirnbaum</a> <span class=\"age\"><a href=\"item?id=26273925\">15 hours ago</a></span> <span id=\"unv_26273925\"></span> | <a href=\"hide?id=26273925&amp;goto=news\">hide</a> | <a href=\"item?id=26273925\">163&nbsp;comments</a>              </td></tr>\n",
      "      <tr class=\"spacer\" style=\"height:5px\"></tr>\n",
      "                <tr class='athing' id='26274698'>\n",
      "      <td align=\"right\" valign=\"top\" class=\"title\"><span class=\"rank\">27.</span></td>      <td valign=\"top\" class=\"votelinks\"><center><a id='up_26274698' href='vote?id=26274698&amp;how=up&amp;goto=news'><div class='votearrow' title='upvote'></div></a></center></td><td class=\"title\"><a href=\"https://www.forbes.com/sites/startswithabang/2021/02/26/ask-ethan-how-prepared-are-we-for-the-next-giant-solar-flare/\" class=\"storylink\">How prepared are we for the next giant solar flare?</a><span class=\"sitebit comhead\"> (<a href=\"from?site=forbes.com/sites/startswithabang\"><span class=\"sitestr\">forbes.com/sites/startswithabang</span></a>)</span></td></tr><tr><td colspan=\"2\"></td><td class=\"subtext\">\n",
      "        <span class=\"score\" id=\"score_26274698\">149 points</span> by <a href=\"user?id=firebaze\" class=\"hnuser\">firebaze</a> <span class=\"age\"><a href=\"item?id=26274698\">13 hours ago</a></span> <span id=\"unv_26274698\"></span> | <a href=\"hide?id=26274698&amp;goto=news\">hide</a> | <a href=\"item?id=26274698\">109&nbsp;comments</a>              </td></tr>\n",
      "      <tr class=\"spacer\" style=\"height:5px\"></tr>\n",
      "                <tr class='athing' id='26276449'>\n",
      "      <td align=\"right\" valign=\"top\" class=\"title\"><span class=\"rank\">28.</span></td>      <td valign=\"top\" class=\"votelinks\"><center><a id='up_26276449' href='vote?id=26276449&amp;how=up&amp;goto=news'><div class='votearrow' title='upvote'></div></a></center></td><td class=\"title\"><a href=\"https://blog.rust-lang.org/2021/02/26/const-generics-mvp-beta.html\" class=\"storylink\">Rust const generics MVP hits beta</a><span class=\"sitebit comhead\"> (<a href=\"from?site=rust-lang.org\"><span class=\"sitestr\">rust-lang.org</span></a>)</span></td></tr><tr><td colspan=\"2\"></td><td class=\"subtext\">\n",
      "        <span class=\"score\" id=\"score_26276449\">271 points</span> by <a href=\"user?id=mfsch\" class=\"hnuser\">mfsch</a> <span class=\"age\"><a href=\"item?id=26276449\">10 hours ago</a></span> <span id=\"unv_26276449\"></span> | <a href=\"hide?id=26276449&amp;goto=news\">hide</a> | <a href=\"item?id=26276449\">72&nbsp;comments</a>              </td></tr>\n",
      "      <tr class=\"spacer\" style=\"height:5px\"></tr>\n",
      "                <tr class='athing' id='26281689'>\n",
      "      <td align=\"right\" valign=\"top\" class=\"title\"><span class=\"rank\">29.</span></td>      <td valign=\"top\" class=\"votelinks\"><center><a id='up_26281689' href='vote?id=26281689&amp;how=up&amp;goto=news'><div class='votearrow' title='upvote'></div></a></center></td><td class=\"title\"><a href=\"item?id=26281689\" class=\"storylink\">Shopify employees accessed customer databases without authorization</a></td></tr><tr><td colspan=\"2\"></td><td class=\"subtext\">\n",
      "        <span class=\"score\" id=\"score_26281689\">15 points</span> by <a href=\"user?id=synunlimited\" class=\"hnuser\">synunlimited</a> <span class=\"age\"><a href=\"item?id=26281689\">2 hours ago</a></span> <span id=\"unv_26281689\"></span> | <a href=\"hide?id=26281689&amp;goto=news\">hide</a> | <a href=\"item?id=26281689\">1&nbsp;comment</a>              </td></tr>\n",
      "      <tr class=\"spacer\" style=\"height:5px\"></tr>\n",
      "                <tr class='athing' id='26261337'>\n",
      "      <td align=\"right\" valign=\"top\" class=\"title\"><span class=\"rank\">30.</span></td>      <td valign=\"top\" class=\"votelinks\"><center><a id='up_26261337' href='vote?id=26261337&amp;how=up&amp;goto=news'><div class='votearrow' title='upvote'></div></a></center></td><td class=\"title\"><a href=\"https://www.nawbw.co.uk/charter.php\" class=\"storylink\">Charter of the National Association of Wheeled Bin Washers</a><span class=\"sitebit comhead\"> (<a href=\"from?site=nawbw.co.uk\"><span class=\"sitestr\">nawbw.co.uk</span></a>)</span></td></tr><tr><td colspan=\"2\"></td><td class=\"subtext\">\n",
      "        <span class=\"score\" id=\"score_26261337\">15 points</span> by <a href=\"user?id=Kaibeezy\" class=\"hnuser\">Kaibeezy</a> <span class=\"age\"><a href=\"item?id=26261337\">4 hours ago</a></span> <span id=\"unv_26261337\"></span> | <a href=\"hide?id=26261337&amp;goto=news\">hide</a> | <a href=\"item?id=26261337\">9&nbsp;comments</a>              </td></tr>\n",
      "      <tr class=\"spacer\" style=\"height:5px\"></tr>\n",
      "            <tr class=\"morespace\" style=\"height:10px\"></tr><tr><td colspan=\"2\"></td><td class=\"title\"><a href=\"news?p=2\" class=\"morelink\" rel=\"next\">More</a></td></tr>\n",
      "  </table>\n",
      "</td></tr>\n",
      "<tr><td><img src=\"s.gif\" height=\"10\" width=\"0\"><table width=\"100%\" cellspacing=\"0\" cellpadding=\"1\"><tr><td bgcolor=\"#ff6600\"></td></tr></table><br><center><span class=\"yclinks\"><a href=\"newsguidelines.html\">Guidelines</a>\n",
      "        | <a href=\"newsfaq.html\">FAQ</a>\n",
      "        | <a href=\"lists\">Lists</a>\n",
      "        | <a href=\"https://github.com/HackerNews/API\">API</a>\n",
      "        | <a href=\"security.html\">Security</a>\n",
      "        | <a href=\"http://www.ycombinator.com/legal/\">Legal</a>\n",
      "        | <a href=\"http://www.ycombinator.com/apply/\">Apply to YC</a>\n",
      "        | <a href=\"mailto:hn@ycombinator.com\">Contact</a></span><br><br><form method=\"get\" action=\"//hn.algolia.com/\">Search:\n",
      "          <input type=\"text\" name=\"q\" value=\"\" size=\"17\" autocorrect=\"off\" spellcheck=\"false\" autocapitalize=\"off\" autocomplete=\"false\"></form>\n",
      "            </center></td></tr>\n",
      "      </table></center></body><script type='text/javascript' src='hn.js?qNWwHkd4E8FELceGdmI5'></script></html>\n",
      "\n"
     ]
    }
   ],
   "source": [
    "import requests\n",
    "\n",
    "# Fetch a web page\n",
    "r = requests.get(\"https://news.ycombinator.com\")\n",
    "print(r.text)"
   ]
  },
  {
   "cell_type": "code",
   "execution_count": 11,
   "metadata": {},
   "outputs": [
    {
     "name": "stdout",
     "output_type": "stream",
     "text": [
      "\n",
      "        \n",
      "          \n",
      "        Hacker News\n",
      "        \n",
      "                  Hacker News\n",
      "              new | past | comments | ask | show | jobs | submit            \n",
      "                              login\n",
      "                          \n",
      "              \n",
      "\n",
      "              \n",
      "      1.      Graphtage: A semantic diff utility for JSON, HTML, YAML, CSV, etc (github.com/trailofbits)\n",
      "        196 points by autoditype 5 hours ago  | hide | 16&nbsp;comments              \n",
      "      \n",
      "                \n",
      "      2.      PureScript and Haskell (drewolson.org)\n",
      "        78 points by allenleein 3 hours ago  | hide | 8&nbsp;comments              \n",
      "      \n",
      "                \n",
      "      3.      SEC suspends trading in 15 securities due to questionable social media activity (sec.gov)\n",
      "        194 points by minkeymaniac 5 hours ago  | hide | 129&nbsp;comments              \n",
      "      \n",
      "                \n",
      "      4.      Mining Ethereum on M1 Mac GPU (yifangu.com)\n",
      "        15 points by gyf304 1 hour ago  | hide | discuss              \n",
      "      \n",
      "                \n",
      "      5.      Show HN: Hummingbard – decentralized communities built on Matrix (hummingbard.com)\n",
      "        261 points by SubGenius 9 hours ago  | hide | 46&nbsp;comments              \n",
      "      \n",
      "                \n",
      "      6.      Some small USA towns giving away housing lots (offgridpermaculture.com)\n",
      "        40 points by SQL2219 3 hours ago  | hide | 13&nbsp;comments              \n",
      "      \n",
      "                \n",
      "      7.      How Uber Deals with Large iOS App Size (uber.com)\n",
      "        189 points by rakingleaves 9 hours ago  | hide | 161&nbsp;comments              \n",
      "      \n",
      "                \n",
      "      8.      Show HN: Redbean – Single-file distributable web server (justine.lol)\n",
      "        1478 points by jart 22 hours ago  | hide | 195&nbsp;comments              \n",
      "      \n",
      "                \n",
      "      9.      Firefox replaces Google Analytics with fake no-op in strict tracking protection (twitter.com/__jakub_g)\n",
      "        259 points by crazypython 4 hours ago  | hide | 75&nbsp;comments              \n",
      "      \n",
      "                \n",
      "      10.      Astranis (YC W16) is hiring a full-cycle tech recruiter to help grow our team (lever.co)\n",
      "        2 hours ago | hide      \n",
      "      \n",
      "                \n",
      "      11.      Smoothstep.io, a Shader Animation Tool (smoothstep.io)\n",
      "        96 points by bwidlar 6 hours ago  | hide | 10&nbsp;comments              \n",
      "      \n",
      "                \n",
      "      12.      Judge in Google case disturbed that 'incognito' users are tracked (bnnbloomberg.ca)\n",
      "        776 points by johncena33 9 hours ago  | hide | 318&nbsp;comments              \n",
      "      \n",
      "                \n",
      "      13.      An interactive guide to CSS transitions (joshwcomeau.com)\n",
      "        230 points by tomaszs 10 hours ago  | hide | 30&nbsp;comments              \n",
      "      \n",
      "                \n",
      "      14.      Show HN: Unix tool that visualizes shell commands usage (github.com/irevenko)\n",
      "        52 points by irevenko 6 hours ago  | hide | 13&nbsp;comments              \n",
      "      \n",
      "                \n",
      "      15.      Fleets of radar satellites are measuring movements on Earth like never before (sciencemag.org)\n",
      "        43 points by sohkamyung 5 hours ago  | hide | 13&nbsp;comments              \n",
      "      \n",
      "                \n",
      "      16.      The Cuboid: A DIY air purifier that's better than a box fan (dynomight.net)\n",
      "        186 points by dynm 12 hours ago  | hide | 117&nbsp;comments              \n",
      "      \n",
      "                \n",
      "      17.      I'll pay you to read my book (2013) (kk.org)\n",
      "        13 points by simonebrunozzi 2 hours ago  | hide | 6&nbsp;comments              \n",
      "      \n",
      "                \n",
      "      18.      ‘Deep Nostalgia’ can turn old photos of your relatives into moving videos (gizmodo.com)\n",
      "        205 points by DamnInteresting 6 hours ago  | hide | 63&nbsp;comments              \n",
      "      \n",
      "                \n",
      "      19.      Before You Memo() (overreacted.io)\n",
      "        7 points by feross 1 hour ago  | hide | 1&nbsp;comment              \n",
      "      \n",
      "                \n",
      "      20.      Medical chatbot using OpenAI’s GPT-3 told a fake patient to kill themselves (artificialintelligence-news.com)\n",
      "        88 points by weare138 4 hours ago  | hide | 50&nbsp;comments              \n",
      "      \n",
      "                \n",
      "      21.      Tweak: An Efficient Hex Editor (greenend.org.uk)\n",
      "        80 points by hprotagonist 8 hours ago  | hide | 28&nbsp;comments              \n",
      "      \n",
      "                \n",
      "      22.      Launch HN: Insight (YC W19) – an iOS browser with easy-to-make extensions\n",
      "        66 points by archajain 10 hours ago  | hide | 40&nbsp;comments              \n",
      "      \n",
      "                \n",
      "      23.      Remain Calm: The fox is still in the Firefox logo (blog.mozilla.org)\n",
      "        109 points by Fabricio20 5 hours ago  | hide | 58&nbsp;comments              \n",
      "      \n",
      "                \n",
      "      24.      GNU poke 1.0 (jemarch.net)\n",
      "        161 points by todsacerdoti 13 hours ago  | hide | 31&nbsp;comments              \n",
      "      \n",
      "                \n",
      "      25.      Facebook is pushing back on Apple’s new iPhone privacy rules (npr.org)\n",
      "        579 points by pedro-guimaraes 12 hours ago  | hide | 627&nbsp;comments              \n",
      "      \n",
      "                \n",
      "      26.      The Covid Zoom Boom Is Reshaping Sign Language (scientificamerican.com)\n",
      "        172 points by bbirnbaum 15 hours ago  | hide | 163&nbsp;comments              \n",
      "      \n",
      "                \n",
      "      27.      How prepared are we for the next giant solar flare? (forbes.com/sites/startswithabang)\n",
      "        149 points by firebaze 13 hours ago  | hide | 109&nbsp;comments              \n",
      "      \n",
      "                \n",
      "      28.      Rust const generics MVP hits beta (rust-lang.org)\n",
      "        271 points by mfsch 10 hours ago  | hide | 72&nbsp;comments              \n",
      "      \n",
      "                \n",
      "      29.      Shopify employees accessed customer databases without authorization\n",
      "        15 points by synunlimited 2 hours ago  | hide | 1&nbsp;comment              \n",
      "      \n",
      "                \n",
      "      30.      Charter of the National Association of Wheeled Bin Washers (nawbw.co.uk)\n",
      "        15 points by Kaibeezy 4 hours ago  | hide | 9&nbsp;comments              \n",
      "      \n",
      "            More\n",
      "  \n",
      "\n",
      "Guidelines\n",
      "        | FAQ\n",
      "        | Lists\n",
      "        | API\n",
      "        | Security\n",
      "        | Legal\n",
      "        | Apply to YC\n",
      "        | ContactSearch:\n",
      "          \n",
      "            \n",
      "      \n",
      "\n"
     ]
    }
   ],
   "source": [
    "import re\n",
    "\n",
    "# Remove HTML tags using RegEx\n",
    "pattern = re.compile(r'<.*?>')  # tags look like <...>\n",
    "print(pattern.sub('', r.text))  # replace them with blank"
   ]
  },
  {
   "cell_type": "code",
   "execution_count": 12,
   "metadata": {},
   "outputs": [
    {
     "name": "stdout",
     "output_type": "stream",
     "text": [
      "\n",
      "        \n",
      "          \n",
      "        Hacker News\n",
      "        \n",
      "                  Hacker News\n",
      "              new | past | comments | ask | show | jobs | submit            \n",
      "                              login\n",
      "                          \n",
      "              \n",
      "\n",
      "              \n",
      "      1.      Graphtage: A semantic diff utility for JSON, HTML, YAML, CSV, etc (github.com/trailofbits)\n",
      "        196 points by autoditype 5 hours ago  | hide | 16 comments              \n",
      "      \n",
      "                \n",
      "      2.      PureScript and Haskell (drewolson.org)\n",
      "        78 points by allenleein 3 hours ago  | hide | 8 comments              \n",
      "      \n",
      "                \n",
      "      3.      SEC suspends trading in 15 securities due to questionable social media activity (sec.gov)\n",
      "        194 points by minkeymaniac 5 hours ago  | hide | 129 comments              \n",
      "      \n",
      "                \n",
      "      4.      Mining Ethereum on M1 Mac GPU (yifangu.com)\n",
      "        15 points by gyf304 1 hour ago  | hide | discuss              \n",
      "      \n",
      "                \n",
      "      5.      Show HN: Hummingbard – decentralized communities built on Matrix (hummingbard.com)\n",
      "        261 points by SubGenius 9 hours ago  | hide | 46 comments              \n",
      "      \n",
      "                \n",
      "      6.      Some small USA towns giving away housing lots (offgridpermaculture.com)\n",
      "        40 points by SQL2219 3 hours ago  | hide | 13 comments              \n",
      "      \n",
      "                \n",
      "      7.      How Uber Deals with Large iOS App Size (uber.com)\n",
      "        189 points by rakingleaves 9 hours ago  | hide | 161 comments              \n",
      "      \n",
      "                \n",
      "      8.      Show HN: Redbean – Single-file distributable web server (justine.lol)\n",
      "        1478 points by jart 22 hours ago  | hide | 195 comments              \n",
      "      \n",
      "                \n",
      "      9.      Firefox replaces Google Analytics with fake no-op in strict tracking protection (twitter.com/__jakub_g)\n",
      "        259 points by crazypython 4 hours ago  | hide | 75 comments              \n",
      "      \n",
      "                \n",
      "      10.      Astranis (YC W16) is hiring a full-cycle tech recruiter to help grow our team (lever.co)\n",
      "        2 hours ago | hide      \n",
      "      \n",
      "                \n",
      "      11.      Smoothstep.io, a Shader Animation Tool (smoothstep.io)\n",
      "        96 points by bwidlar 6 hours ago  | hide | 10 comments              \n",
      "      \n",
      "                \n",
      "      12.      Judge in Google case disturbed that 'incognito' users are tracked (bnnbloomberg.ca)\n",
      "        776 points by johncena33 9 hours ago  | hide | 318 comments              \n",
      "      \n",
      "                \n",
      "      13.      An interactive guide to CSS transitions (joshwcomeau.com)\n",
      "        230 points by tomaszs 10 hours ago  | hide | 30 comments              \n",
      "      \n",
      "                \n",
      "      14.      Show HN: Unix tool that visualizes shell commands usage (github.com/irevenko)\n",
      "        52 points by irevenko 6 hours ago  | hide | 13 comments              \n",
      "      \n",
      "                \n",
      "      15.      Fleets of radar satellites are measuring movements on Earth like never before (sciencemag.org)\n",
      "        43 points by sohkamyung 5 hours ago  | hide | 13 comments              \n",
      "      \n",
      "                \n",
      "      16.      The Cuboid: A DIY air purifier that's better than a box fan (dynomight.net)\n",
      "        186 points by dynm 12 hours ago  | hide | 117 comments              \n",
      "      \n",
      "                \n",
      "      17.      I'll pay you to read my book (2013) (kk.org)\n",
      "        13 points by simonebrunozzi 2 hours ago  | hide | 6 comments              \n",
      "      \n",
      "                \n",
      "      18.      ‘Deep Nostalgia’ can turn old photos of your relatives into moving videos (gizmodo.com)\n",
      "        205 points by DamnInteresting 6 hours ago  | hide | 63 comments              \n",
      "      \n",
      "                \n",
      "      19.      Before You Memo() (overreacted.io)\n",
      "        7 points by feross 1 hour ago  | hide | 1 comment              \n",
      "      \n",
      "                \n",
      "      20.      Medical chatbot using OpenAI’s GPT-3 told a fake patient to kill themselves (artificialintelligence-news.com)\n",
      "        88 points by weare138 4 hours ago  | hide | 50 comments              \n",
      "      \n",
      "                \n",
      "      21.      Tweak: An Efficient Hex Editor (greenend.org.uk)\n",
      "        80 points by hprotagonist 8 hours ago  | hide | 28 comments              \n",
      "      \n",
      "                \n",
      "      22.      Launch HN: Insight (YC W19) – an iOS browser with easy-to-make extensions\n",
      "        66 points by archajain 10 hours ago  | hide | 40 comments              \n",
      "      \n",
      "                \n",
      "      23.      Remain Calm: The fox is still in the Firefox logo (blog.mozilla.org)\n",
      "        109 points by Fabricio20 5 hours ago  | hide | 58 comments              \n",
      "      \n",
      "                \n",
      "      24.      GNU poke 1.0 (jemarch.net)\n",
      "        161 points by todsacerdoti 13 hours ago  | hide | 31 comments              \n",
      "      \n",
      "                \n",
      "      25.      Facebook is pushing back on Apple’s new iPhone privacy rules (npr.org)\n",
      "        579 points by pedro-guimaraes 12 hours ago  | hide | 627 comments              \n",
      "      \n",
      "                \n",
      "      26.      The Covid Zoom Boom Is Reshaping Sign Language (scientificamerican.com)\n",
      "        172 points by bbirnbaum 15 hours ago  | hide | 163 comments              \n",
      "      \n",
      "                \n",
      "      27.      How prepared are we for the next giant solar flare? (forbes.com/sites/startswithabang)\n",
      "        149 points by firebaze 13 hours ago  | hide | 109 comments              \n",
      "      \n",
      "                \n",
      "      28.      Rust const generics MVP hits beta (rust-lang.org)\n",
      "        271 points by mfsch 10 hours ago  | hide | 72 comments              \n",
      "      \n",
      "                \n",
      "      29.      Shopify employees accessed customer databases without authorization\n",
      "        15 points by synunlimited 2 hours ago  | hide | 1 comment              \n",
      "      \n",
      "                \n",
      "      30.      Charter of the National Association of Wheeled Bin Washers (nawbw.co.uk)\n",
      "        15 points by Kaibeezy 4 hours ago  | hide | 9 comments              \n",
      "      \n",
      "            More\n",
      "  \n",
      "\n",
      "Guidelines\n",
      "        | FAQ\n",
      "        | Lists\n",
      "        | API\n",
      "        | Security\n",
      "        | Legal\n",
      "        | Apply to YC\n",
      "        | ContactSearch:\n",
      "          \n",
      "            \n",
      "      \n",
      "\n"
     ]
    }
   ],
   "source": [
    "from bs4 import BeautifulSoup\n",
    "\n",
    "# Remove HTML tags using Beautiful Soup library\n",
    "soup = BeautifulSoup(r.text, \"html5lib\")\n",
    "print(soup.get_text())"
   ]
  },
  {
   "cell_type": "code",
   "execution_count": 13,
   "metadata": {
    "scrolled": true
   },
   "outputs": [
    {
     "data": {
      "text/plain": [
       "<tr class=\"athing\" id=\"26280266\">\n",
       "      <td align=\"right\" class=\"title\" valign=\"top\"><span class=\"rank\">1.</span></td>      <td class=\"votelinks\" valign=\"top\"><center><a href=\"vote?id=26280266&amp;how=up&amp;goto=news\" id=\"up_26280266\"><div class=\"votearrow\" title=\"upvote\"></div></a></center></td><td class=\"title\"><a class=\"storylink\" href=\"https://github.com/trailofbits/graphtage\">Graphtage: A semantic diff utility for JSON, HTML, YAML, CSV, etc</a><span class=\"sitebit comhead\"> (<a href=\"from?site=github.com/trailofbits\"><span class=\"sitestr\">github.com/trailofbits</span></a>)</span></td></tr>"
      ]
     },
     "execution_count": 13,
     "metadata": {},
     "output_type": "execute_result"
    }
   ],
   "source": [
    "# Find all articles\n",
    "summaries = soup.find_all(\"tr\", class_=\"athing\")\n",
    "summaries[0]"
   ]
  },
  {
   "cell_type": "code",
   "execution_count": 14,
   "metadata": {},
   "outputs": [
    {
     "data": {
      "text/plain": [
       "'Graphtage: A semantic diff utility for JSON, HTML, YAML, CSV, etc'"
      ]
     },
     "execution_count": 14,
     "metadata": {},
     "output_type": "execute_result"
    }
   ],
   "source": [
    "# Extract title\n",
    "summaries[0].find(\"a\", class_=\"storylink\").get_text().strip()"
   ]
  },
  {
   "cell_type": "code",
   "execution_count": 15,
   "metadata": {},
   "outputs": [
    {
     "name": "stdout",
     "output_type": "stream",
     "text": [
      "30 Article summaries found. Sample:\n",
      "Graphtage: A semantic diff utility for JSON, HTML, YAML, CSV, etc\n"
     ]
    }
   ],
   "source": [
    "# Find all articles, extract titles\n",
    "articles = []\n",
    "summaries = soup.find_all(\"tr\", class_=\"athing\")\n",
    "for summary in summaries:\n",
    "    title = summary.find(\"a\", class_=\"storylink\").get_text().strip()\n",
    "    articles.append((title))\n",
    "\n",
    "print(len(articles), \"Article summaries found. Sample:\")\n",
    "print(articles[0])"
   ]
  },
  {
   "cell_type": "markdown",
   "metadata": {
    "collapsed": true
   },
   "source": [
    "## Normalization"
   ]
  },
  {
   "cell_type": "markdown",
   "metadata": {},
   "source": [
    "### Case Normalization"
   ]
  },
  {
   "cell_type": "code",
   "execution_count": 16,
   "metadata": {},
   "outputs": [
    {
     "name": "stdout",
     "output_type": "stream",
     "text": [
      "The first time you see The Second Renaissance it may look boring. Look at it at least twice and definitely watch part 2. It will change your view of the matrix. Are the human people the ones who started the war ? Is AI a bad thing ?\n"
     ]
    }
   ],
   "source": [
    "# Sample text\n",
    "text = \"The first time you see The Second Renaissance it may look boring. Look at it at least twice and definitely watch part 2. It will change your view of the matrix. Are the human people the ones who started the war ? Is AI a bad thing ?\"\n",
    "print(text)"
   ]
  },
  {
   "cell_type": "code",
   "execution_count": 17,
   "metadata": {},
   "outputs": [
    {
     "name": "stdout",
     "output_type": "stream",
     "text": [
      "the first time you see the second renaissance it may look boring. look at it at least twice and definitely watch part 2. it will change your view of the matrix. are the human people the ones who started the war ? is ai a bad thing ?\n"
     ]
    }
   ],
   "source": [
    "# Convert to lowercase\n",
    "text = text.lower() \n",
    "print(text)"
   ]
  },
  {
   "cell_type": "markdown",
   "metadata": {},
   "source": [
    "### Punctuation Removal"
   ]
  },
  {
   "cell_type": "code",
   "execution_count": 18,
   "metadata": {},
   "outputs": [
    {
     "name": "stdout",
     "output_type": "stream",
     "text": [
      "the first time you see the second renaissance it may look boring  look at it at least twice and definitely watch part 2  it will change your view of the matrix  are the human people the ones who started the war   is ai a bad thing  \n"
     ]
    }
   ],
   "source": [
    "import re\n",
    "\n",
    "# Remove punctuation characters\n",
    "text = re.sub(r\"[^a-zA-Z0-9]\", \" \", text) \n",
    "print(text)"
   ]
  },
  {
   "cell_type": "markdown",
   "metadata": {},
   "source": [
    "## Tokenization"
   ]
  },
  {
   "cell_type": "code",
   "execution_count": 19,
   "metadata": {},
   "outputs": [
    {
     "name": "stdout",
     "output_type": "stream",
     "text": [
      "['the', 'first', 'time', 'you', 'see', 'the', 'second', 'renaissance', 'it', 'may', 'look', 'boring', 'look', 'at', 'it', 'at', 'least', 'twice', 'and', 'definitely', 'watch', 'part', '2', 'it', 'will', 'change', 'your', 'view', 'of', 'the', 'matrix', 'are', 'the', 'human', 'people', 'the', 'ones', 'who', 'started', 'the', 'war', 'is', 'ai', 'a', 'bad', 'thing']\n"
     ]
    }
   ],
   "source": [
    "# Split text into tokens (words)\n",
    "words = text.split()\n",
    "print(words)"
   ]
  },
  {
   "cell_type": "markdown",
   "metadata": {},
   "source": [
    "### NLTK: Natural Language ToolKit"
   ]
  },
  {
   "cell_type": "code",
   "execution_count": 20,
   "metadata": {},
   "outputs": [],
   "source": [
    "import os\n",
    "import nltk\n",
    "nltk.data.path.append(os.path.join(os.getcwd(), \"nltk_data\"))"
   ]
  },
  {
   "cell_type": "code",
   "execution_count": 21,
   "metadata": {},
   "outputs": [
    {
     "name": "stdout",
     "output_type": "stream",
     "text": [
      "Dr. Smith graduated from the University of Washington. He later started an analytics firm called Lux, which catered to enterprise customers.\n"
     ]
    }
   ],
   "source": [
    "# Another sample text\n",
    "text = \"Dr. Smith graduated from the University of Washington. He later started an analytics firm called Lux, which catered to enterprise customers.\"\n",
    "print(text)"
   ]
  },
  {
   "cell_type": "code",
   "execution_count": 22,
   "metadata": {},
   "outputs": [
    {
     "name": "stdout",
     "output_type": "stream",
     "text": [
      "['Dr.', 'Smith', 'graduated', 'from', 'the', 'University', 'of', 'Washington', '.', 'He', 'later', 'started', 'an', 'analytics', 'firm', 'called', 'Lux', ',', 'which', 'catered', 'to', 'enterprise', 'customers', '.']\n"
     ]
    }
   ],
   "source": [
    "from nltk.tokenize import word_tokenize\n",
    "\n",
    "# Split text into words using NLTK\n",
    "words = word_tokenize(text)\n",
    "print(words)"
   ]
  },
  {
   "cell_type": "code",
   "execution_count": 23,
   "metadata": {},
   "outputs": [
    {
     "name": "stdout",
     "output_type": "stream",
     "text": [
      "['Dr. Smith graduated from the University of Washington.', 'He later started an analytics firm called Lux, which catered to enterprise customers.']\n"
     ]
    }
   ],
   "source": [
    "from nltk.tokenize import sent_tokenize\n",
    "\n",
    "# Split text into sentences\n",
    "sentences = sent_tokenize(text)\n",
    "print(sentences)"
   ]
  },
  {
   "cell_type": "code",
   "execution_count": 24,
   "metadata": {},
   "outputs": [
    {
     "name": "stdout",
     "output_type": "stream",
     "text": [
      "['i', 'me', 'my', 'myself', 'we', 'our', 'ours', 'ourselves', 'you', \"you're\", \"you've\", \"you'll\", \"you'd\", 'your', 'yours', 'yourself', 'yourselves', 'he', 'him', 'his', 'himself', 'she', \"she's\", 'her', 'hers', 'herself', 'it', \"it's\", 'its', 'itself', 'they', 'them', 'their', 'theirs', 'themselves', 'what', 'which', 'who', 'whom', 'this', 'that', \"that'll\", 'these', 'those', 'am', 'is', 'are', 'was', 'were', 'be', 'been', 'being', 'have', 'has', 'had', 'having', 'do', 'does', 'did', 'doing', 'a', 'an', 'the', 'and', 'but', 'if', 'or', 'because', 'as', 'until', 'while', 'of', 'at', 'by', 'for', 'with', 'about', 'against', 'between', 'into', 'through', 'during', 'before', 'after', 'above', 'below', 'to', 'from', 'up', 'down', 'in', 'out', 'on', 'off', 'over', 'under', 'again', 'further', 'then', 'once', 'here', 'there', 'when', 'where', 'why', 'how', 'all', 'any', 'both', 'each', 'few', 'more', 'most', 'other', 'some', 'such', 'no', 'nor', 'not', 'only', 'own', 'same', 'so', 'than', 'too', 'very', 's', 't', 'can', 'will', 'just', 'don', \"don't\", 'should', \"should've\", 'now', 'd', 'll', 'm', 'o', 're', 've', 'y', 'ain', 'aren', \"aren't\", 'couldn', \"couldn't\", 'didn', \"didn't\", 'doesn', \"doesn't\", 'hadn', \"hadn't\", 'hasn', \"hasn't\", 'haven', \"haven't\", 'isn', \"isn't\", 'ma', 'mightn', \"mightn't\", 'mustn', \"mustn't\", 'needn', \"needn't\", 'shan', \"shan't\", 'shouldn', \"shouldn't\", 'wasn', \"wasn't\", 'weren', \"weren't\", 'won', \"won't\", 'wouldn', \"wouldn't\"]\n"
     ]
    }
   ],
   "source": [
    "# List stop words\n",
    "from nltk.corpus import stopwords\n",
    "print(stopwords.words(\"english\"))"
   ]
  },
  {
   "cell_type": "code",
   "execution_count": 25,
   "metadata": {},
   "outputs": [
    {
     "name": "stdout",
     "output_type": "stream",
     "text": [
      "['the', 'first', 'time', 'you', 'see', 'the', 'second', 'renaissance', 'it', 'may', 'look', 'boring', 'look', 'at', 'it', 'at', 'least', 'twice', 'and', 'definitely', 'watch', 'part', '2', 'it', 'will', 'change', 'your', 'view', 'of', 'the', 'matrix', 'are', 'the', 'human', 'people', 'the', 'ones', 'who', 'started', 'the', 'war', 'is', 'ai', 'a', 'bad', 'thing']\n"
     ]
    }
   ],
   "source": [
    "# Reset text\n",
    "text = \"The first time you see The Second Renaissance it may look boring. Look at it at least twice and definitely watch part 2. It will change your view of the matrix. Are the human people the ones who started the war ? Is AI a bad thing ?\"\n",
    "\n",
    "# Normalize it\n",
    "text = re.sub(r\"[^a-zA-Z0-9]\", \" \", text.lower())\n",
    "\n",
    "# Tokenize it\n",
    "words = text.split()\n",
    "print(words)"
   ]
  },
  {
   "cell_type": "code",
   "execution_count": 26,
   "metadata": {},
   "outputs": [
    {
     "name": "stdout",
     "output_type": "stream",
     "text": [
      "['first', 'time', 'see', 'second', 'renaissance', 'may', 'look', 'boring', 'look', 'least', 'twice', 'definitely', 'watch', 'part', '2', 'change', 'view', 'matrix', 'human', 'people', 'ones', 'started', 'war', 'ai', 'bad', 'thing']\n"
     ]
    }
   ],
   "source": [
    "# Remove stop words\n",
    "words = [w for w in words if w not in stopwords.words(\"english\")]\n",
    "print(words)"
   ]
  },
  {
   "cell_type": "markdown",
   "metadata": {},
   "source": [
    "### Sentence Parsing"
   ]
  },
  {
   "cell_type": "code",
   "execution_count": 27,
   "metadata": {},
   "outputs": [
    {
     "name": "stdout",
     "output_type": "stream",
     "text": [
      "(S\n",
      "  (NP I)\n",
      "  (VP\n",
      "    (VP (V shot) (NP (Det an) (N elephant)))\n",
      "    (PP (P in) (NP (Det my) (N pajamas)))))\n",
      "(S\n",
      "  (NP I)\n",
      "  (VP\n",
      "    (V shot)\n",
      "    (NP (Det an) (N elephant) (PP (P in) (NP (Det my) (N pajamas))))))\n"
     ]
    }
   ],
   "source": [
    "import nltk\n",
    "\n",
    "# Define a custom grammar\n",
    "my_grammar = nltk.CFG.fromstring(\"\"\"\n",
    "S -> NP VP\n",
    "PP -> P NP\n",
    "NP -> Det N | Det N PP | 'I'\n",
    "VP -> V NP | VP PP\n",
    "Det -> 'an' | 'my'\n",
    "N -> 'elephant' | 'pajamas'\n",
    "V -> 'shot'\n",
    "P -> 'in'\n",
    "\"\"\")\n",
    "parser = nltk.ChartParser(my_grammar)\n",
    "\n",
    "# Parse a sentence\n",
    "sentence = word_tokenize(\"I shot an elephant in my pajamas\")\n",
    "for tree in parser.parse(sentence):\n",
    "    print(tree)"
   ]
  },
  {
   "cell_type": "markdown",
   "metadata": {},
   "source": [
    "## Stemming & Lemmatization\n",
    "\n",
    "### Stemming"
   ]
  },
  {
   "cell_type": "code",
   "execution_count": 28,
   "metadata": {},
   "outputs": [
    {
     "name": "stdout",
     "output_type": "stream",
     "text": [
      "['first', 'time', 'see', 'second', 'renaiss', 'may', 'look', 'bore', 'look', 'least', 'twice', 'definit', 'watch', 'part', '2', 'chang', 'view', 'matrix', 'human', 'peopl', 'one', 'start', 'war', 'ai', 'bad', 'thing']\n"
     ]
    }
   ],
   "source": [
    "from nltk.stem.porter import PorterStemmer\n",
    "\n",
    "# Reduce words to their stems\n",
    "stemmed = [PorterStemmer().stem(w) for w in words]\n",
    "print(stemmed)"
   ]
  },
  {
   "cell_type": "markdown",
   "metadata": {},
   "source": [
    "### Lemmatization"
   ]
  },
  {
   "cell_type": "code",
   "execution_count": 29,
   "metadata": {},
   "outputs": [
    {
     "name": "stdout",
     "output_type": "stream",
     "text": [
      "['first', 'time', 'see', 'second', 'renaissance', 'may', 'look', 'boring', 'look', 'least', 'twice', 'definitely', 'watch', 'part', '2', 'change', 'view', 'matrix', 'human', 'people', 'one', 'started', 'war', 'ai', 'bad', 'thing']\n"
     ]
    }
   ],
   "source": [
    "from nltk.stem.wordnet import WordNetLemmatizer\n",
    "\n",
    "# Reduce words to their root form\n",
    "lemmed = [WordNetLemmatizer().lemmatize(w) for w in words]\n",
    "print(lemmed)"
   ]
  },
  {
   "cell_type": "code",
   "execution_count": 30,
   "metadata": {},
   "outputs": [
    {
     "name": "stdout",
     "output_type": "stream",
     "text": [
      "['first', 'time', 'see', 'second', 'renaissance', 'may', 'look', 'bore', 'look', 'least', 'twice', 'definitely', 'watch', 'part', '2', 'change', 'view', 'matrix', 'human', 'people', 'one', 'start', 'war', 'ai', 'bad', 'thing']\n"
     ]
    }
   ],
   "source": [
    "# Lemmatize verbs by specifying pos\n",
    "lemmed = [WordNetLemmatizer().lemmatize(w, pos='v') for w in lemmed]\n",
    "print(lemmed)"
   ]
  },
  {
   "cell_type": "code",
   "execution_count": null,
   "metadata": {},
   "outputs": [],
   "source": []
  }
 ],
 "metadata": {
  "kernelspec": {
   "display_name": "Python 3",
   "language": "python",
   "name": "python3"
  },
  "language_info": {
   "codemirror_mode": {
    "name": "ipython",
    "version": 3
   },
   "file_extension": ".py",
   "mimetype": "text/x-python",
   "name": "python",
   "nbconvert_exporter": "python",
   "pygments_lexer": "ipython3",
   "version": "3.6.3"
  }
 },
 "nbformat": 4,
 "nbformat_minor": 2
}
